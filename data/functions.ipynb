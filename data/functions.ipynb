{
 "cells": [
  {
   "cell_type": "code",
   "execution_count": 3,
   "metadata": {},
   "outputs": [],
   "source": [
    "#Funciones utiles para el ETL y EDA"
   ]
  },
  {
   "cell_type": "code",
   "execution_count": 4,
   "metadata": {},
   "outputs": [],
   "source": [
    "import pandas as pd\n",
    "from textblob import TextBlob\n",
    "import re"
   ]
  },
  {
   "cell_type": "code",
   "execution_count": 5,
   "metadata": {},
   "outputs": [],
   "source": [
    "\n",
    "\n",
    "def tipo_dato(df):\n",
    "    ''' \n",
    "    Realiza el analisis de los tipos de dato del dataframe\n",
    "\n",
    "    La funcion recibe un DataFrame (df) y devuelve un resumen de su contenido incluyendo infomracion sobre los tipos de datos de cada columna.\n",
    "\n",
    "\n",
    "    Parameters:\n",
    "    df(pandas.Dataframe):El DataFrame que se busca analizar.\n",
    "\n",
    "    Returns: \n",
    "        pandas.DataFrame :Un Dataframe con el resumen de cada columna lo cual incluye:\n",
    "\n",
    "            * nombre_campo: Nombre de columna\n",
    "            *tipo_dato: Tipo de dato en cada columna\n",
    "            *nulo: Cantidad de valores nuleos en cada columna\n",
    "            *no_nulo%: Porcentaje de vaolores no nulos\n",
    "            *nulo%: Porcentaje de valores Nulos\n",
    "\n",
    "    '''\n",
    "\n",
    "    titulos = {\"nombre_campo\":[], \"tipo_dato\":[], \"nulo\":[], \"no_nulo%\":[], \"nulo%\":[]}\n",
    "\n",
    "    for columna in df.columns:\n",
    "        no_nulos_porc = (df[columna].count()/ len(df)) * 100\n",
    "        titulos[\"nombre_campo\"].append(columna)\n",
    "        titulos[\"tipo_dato\"].append(df[columna].apply(type).unique())\n",
    "        titulos[\"no_nulo%\"].append(round(no_nulos_porc,2))\n",
    "        titulos[\"nulo%\"].append(round(100-no_nulos_porc,2))\n",
    "        titulos[\"nulo\"].append(df[columna].isnull().sum())\n",
    "        \n",
    "            \n",
    "    df_info = pd.DataFrame(titulos)\n",
    "\n",
    "    return df_info"
   ]
  },
  {
   "cell_type": "code",
   "execution_count": null,
   "metadata": {},
   "outputs": [],
   "source": []
  }
 ],
 "metadata": {
  "kernelspec": {
   "display_name": "Python 3",
   "language": "python",
   "name": "python3"
  },
  "language_info": {
   "codemirror_mode": {
    "name": "ipython",
    "version": 3
   },
   "file_extension": ".py",
   "mimetype": "text/x-python",
   "name": "python",
   "nbconvert_exporter": "python",
   "pygments_lexer": "ipython3",
   "version": "3.11.6"
  }
 },
 "nbformat": 4,
 "nbformat_minor": 2
}
